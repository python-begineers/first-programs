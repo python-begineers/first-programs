{
 "cells": [
  {
   "cell_type": "code",
   "execution_count": 80,
   "metadata": {},
   "outputs": [
    {
     "name": "stdout",
     "output_type": "stream",
     "text": [
      "12\n",
      "check prime -False\n",
      "the number is even\n",
      "check square - False\n",
      "[1, 2, 3, 5, 8, 13]\n"
     ]
    }
   ],
   "source": [
    "import math \n",
    "\n",
    "#get input\n",
    "x = input()\n",
    "x = int(x)\n",
    "#ask which operation\n",
    "\n",
    "def is_prime(val):\n",
    "    output = True\n",
    "    for a in range(2,val-1):\n",
    "        r = val%a\n",
    "        if r == 0:\n",
    "            output = False\n",
    "            break\n",
    "    return output\n",
    "\n",
    "def even_odd(val):\n",
    "    r = val%2\n",
    "    if r == 1:\n",
    "        output = \"odd\"  \n",
    "    else:\n",
    "        output = \"even\"\n",
    "    return output\n",
    "        \n",
    "def is_square(val):\n",
    "    y = math.sqrt(val)\n",
    "    if y.is_integer():\n",
    "        output = True\n",
    "    else:\n",
    "        output = False\n",
    "    return output    \n",
    "    \n",
    "def fib(val):\n",
    "    a = 1\n",
    "    b = 1\n",
    "    total = 1\n",
    "    var = [1]\n",
    "    while(x>total):\n",
    "        \n",
    "        a = b\n",
    "        b = total\n",
    "        total = a + b\n",
    "        var.append(total)\n",
    "           \n",
    "    return var\n",
    "        \n",
    "    \n",
    "isprime = is_prime(x)\n",
    "print(\"check prime -\" + str(isprime))\n",
    "    \n",
    "evenodd = even_odd(x)\n",
    "print(\"the number is \" + evenodd)\n",
    "    \n",
    "    \n",
    "issquare = is_square(x)\n",
    "print(\"check square - \" +  str(issquare))\n",
    "    \n",
    "fiblist = fib(x)\n",
    "print(fiblist)"
   ]
  },
  {
   "cell_type": "code",
   "execution_count": null,
   "metadata": {},
   "outputs": [],
   "source": []
  },
  {
   "cell_type": "code",
   "execution_count": null,
   "metadata": {},
   "outputs": [],
   "source": []
  }
 ],
 "metadata": {
  "kernelspec": {
   "display_name": "Python 3",
   "language": "python",
   "name": "python3"
  },
  "language_info": {
   "codemirror_mode": {
    "name": "ipython",
    "version": 3
   },
   "file_extension": ".py",
   "mimetype": "text/x-python",
   "name": "python",
   "nbconvert_exporter": "python",
   "pygments_lexer": "ipython3",
   "version": "3.7.6"
  }
 },
 "nbformat": 4,
 "nbformat_minor": 4
}
