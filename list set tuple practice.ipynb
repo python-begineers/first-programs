{
 "cells": [
  {
   "cell_type": "code",
   "execution_count": 39,
   "metadata": {},
   "outputs": [
    {
     "name": "stdout",
     "output_type": "stream",
     "text": [
      "False\n"
     ]
    }
   ],
   "source": [
    "y = (1,2,3,4,5,6)\n",
    "y\n",
    "a = (4,5,6)\n",
    "c = y + a\n",
    "c\n",
    "len(c)\n",
    "c[0:9]\n",
    "del y\n",
    "list(c)\n",
    "set(c)\n",
    "min(c)\n",
    "max(c)\n",
    "(c)\n",
    "x = [1,2,3,4]\n",
    "15  in x\n",
    "f = (10 ,) * 10\n",
    "f\n",
    "print (f == c) \n"
   ]
  },
  {
   "cell_type": "code",
   "execution_count": 51,
   "metadata": {},
   "outputs": [
    {
     "data": {
      "text/plain": [
       "{1, 2, 3, 4, 5, 6, 7, 8, 9, 10, 11, 12, 13, 14}"
      ]
     },
     "execution_count": 51,
     "metadata": {},
     "output_type": "execute_result"
    }
   ],
   "source": [
    "set1 = {1,1,2,3,4,5,6,7,8,9,10,11,12,13,14}\n",
    "set2 = {2,3,4,5,6,7,8,9}\n",
    "set1  set2"
   ]
  },
  {
   "cell_type": "code",
   "execution_count": null,
   "metadata": {},
   "outputs": [],
   "source": []
  }
 ],
 "metadata": {
  "kernelspec": {
   "display_name": "Python 3",
   "language": "python",
   "name": "python3"
  },
  "language_info": {
   "codemirror_mode": {
    "name": "ipython",
    "version": 3
   },
   "file_extension": ".py",
   "mimetype": "text/x-python",
   "name": "python",
   "nbconvert_exporter": "python",
   "pygments_lexer": "ipython3",
   "version": "3.7.6"
  }
 },
 "nbformat": 4,
 "nbformat_minor": 4
}
