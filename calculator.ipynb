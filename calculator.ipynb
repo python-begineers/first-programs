{
 "cells": [
  {
   "cell_type": "code",
   "execution_count": 14,
   "metadata": {},
   "outputs": [
    {
     "name": "stdout",
     "output_type": "stream",
     "text": [
      "welcome to the Mavs calculator\n",
      "please insert your name\n",
      "vishwa\n",
      "hello vishwa\n"
     ]
    }
   ],
   "source": [
    "#calculator program\n",
    "#introduction\n",
    "print(\"welcome to the Mavs calculator\")\n",
    "#asks for name\n",
    "print(\"please insert your name\")\n",
    "name = input()\n",
    "#introduces character\n",
    "print(\"hello \"+ name )\n",
    "#asks for operation needed\n"
   ]
  },
  {
   "cell_type": "code",
   "execution_count": 15,
   "metadata": {},
   "outputs": [
    {
     "name": "stdout",
     "output_type": "stream",
     "text": [
      "what operation would you like to use \n",
      "1.multiplication\n",
      " 2.addition\n",
      " 3.subtraction\n",
      " 4.division\n",
      "1\n"
     ]
    }
   ],
   "source": [
    "#asks for operation needed\n",
    "oplist = [\"multiplication\",\"addition\",\"subtraction\",\"division\"]\n",
    "print(\"what operation would you like to use \\n\"+ \"1.\" + oplist[0] +\"\\n 2.\"+ oplist[1] +\"\\n 3.\"+ oplist[2] +\"\\n 4.\"+ oplist[3])\n",
    "operation = input()\n",
    "operation = int(operation)"
   ]
  },
  {
   "cell_type": "code",
   "execution_count": 16,
   "metadata": {},
   "outputs": [],
   "source": [
    "def mult(x,y):\n",
    "    return x*y\n",
    "\n",
    "def add(x,y):\n",
    "    return x+y\n",
    "\n",
    "def sub(x,y):\n",
    "    return x-y\n",
    "\n",
    "def div(x,y):\n",
    "    return x/y"
   ]
  },
  {
   "cell_type": "code",
   "execution_count": 17,
   "metadata": {},
   "outputs": [
    {
     "name": "stdout",
     "output_type": "stream",
     "text": [
      "what are the numbers you need calculated \n",
      "379\n",
      "426\n",
      "result = 161454.00\n"
     ]
    }
   ],
   "source": [
    "print(\"what are the numbers you need calculated \")\n",
    "x = input()\n",
    "y = input()\n",
    "x = int(x)\n",
    "y = int(y)\n",
    "if operation == 1:\n",
    "    output = mult(x,y)\n",
    "elif operation == 2:\n",
    "    output = add(x,y)\n",
    "elif operation == 3:\n",
    "    output = sub(x,y)\n",
    "else:\n",
    "    output = div(x,y)\n",
    "formatted_float = \"{:.2f}\".format(output)\n",
    "\n",
    "print(\"result = \" + formatted_float)"
   ]
  },
  {
   "cell_type": "code",
   "execution_count": null,
   "metadata": {},
   "outputs": [],
   "source": []
  }
 ],
 "metadata": {
  "kernelspec": {
   "display_name": "Python 3",
   "language": "python",
   "name": "python3"
  },
  "language_info": {
   "codemirror_mode": {
    "name": "ipython",
    "version": 3
   },
   "file_extension": ".py",
   "mimetype": "text/x-python",
   "name": "python",
   "nbconvert_exporter": "python",
   "pygments_lexer": "ipython3",
   "version": "3.7.6"
  }
 },
 "nbformat": 4,
 "nbformat_minor": 4
}
