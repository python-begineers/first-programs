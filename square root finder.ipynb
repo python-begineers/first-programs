{
 "cells": [
  {
   "cell_type": "code",
   "execution_count": 18,
   "metadata": {},
   "outputs": [
    {
     "name": "stdout",
     "output_type": "stream",
     "text": [
      "100\n",
      "4\n",
      "9\n",
      "16\n",
      "25\n",
      "36\n",
      "49\n",
      "64\n",
      "81\n"
     ]
    }
   ],
   "source": [
    "import math \n",
    "#get input\n",
    "num = input()\n",
    "num = int(num)\n",
    "\n",
    "def is_square(val):\n",
    "    result = math.sqrt(val)\n",
    "    if result.is_integer():\n",
    "        return True\n",
    "    else:\n",
    "        return False\n",
    "    \n",
    "#get range\n",
    "for x in range(2,num):\n",
    "    answer = is_square(x)\n",
    "    if answer == True:\n",
    "        print(x)\n",
    "    \n",
    "    \n",
    "    \n",
    "#find sqaures\n",
    "\n",
    "#print answer\n"
   ]
  },
  {
   "cell_type": "code",
   "execution_count": null,
   "metadata": {},
   "outputs": [],
   "source": []
  },
  {
   "cell_type": "code",
   "execution_count": null,
   "metadata": {},
   "outputs": [],
   "source": []
  }
 ],
 "metadata": {
  "kernelspec": {
   "display_name": "Python 3",
   "language": "python",
   "name": "python3"
  },
  "language_info": {
   "codemirror_mode": {
    "name": "ipython",
    "version": 3
   },
   "file_extension": ".py",
   "mimetype": "text/x-python",
   "name": "python",
   "nbconvert_exporter": "python",
   "pygments_lexer": "ipython3",
   "version": "3.7.6"
  }
 },
 "nbformat": 4,
 "nbformat_minor": 4
}
