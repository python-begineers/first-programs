{
 "cells": [
  {
   "cell_type": "code",
   "execution_count": 88,
   "metadata": {},
   "outputs": [
    {
     "name": "stdout",
     "output_type": "stream",
     "text": [
      "what action - view/addadd\n",
      "enter item - banana\n",
      "add more ? yes/noyes\n",
      "enter item - apple\n",
      "add more ? yes/noyes\n",
      "enter item - strawberry\n",
      "add more ? yes/nono\n",
      "continue yes/no: yes\n",
      "what action - view/addview\n",
      "banana\n",
      "apple\n",
      "meat\n",
      "strawberry\n",
      "\n",
      "continue yes/no: no\n"
     ]
    }
   ],
   "source": [
    "#function \n",
    "\n",
    "\n",
    "def create_shoplist():   \n",
    "    chk = \"yes\"\n",
    "    while chk == \"yes\":\n",
    "        #getinput(s)\n",
    "        x = input(\"enter item - \")\n",
    "       \n",
    "        #add to the set\n",
    "        shoplist.add(x)\n",
    "    \n",
    "        #check if user wants more\n",
    "        chk = input(\"add more ? yes/no\")\n",
    "        if chk == \"no\":\n",
    "            break\n",
    "        #return the set    \n",
    "    return shoplist\n",
    "        \n",
    "def add_shopping_list(shoplist):\n",
    "    # open the file\n",
    "    file = open(\"/users/aditya/shoplist.txt\",\"w+\")\n",
    "    \n",
    "    #read data from the set \n",
    "    for x in shoplist:    \n",
    "        #write data in to file\n",
    "        file.write(x)\n",
    "        file.write(\"\\n\")\n",
    "    \n",
    "    #close the file\n",
    "    file.close()\n",
    "    \n",
    "    \n",
    "def show_shop_list():\n",
    "    #check if file exists\n",
    "    \n",
    "    #open the file\n",
    "    file = open(\"/users/aditya/shoplist.txt\",\"r\")\n",
    "    \n",
    "    #read and print\n",
    "    print(file.read())\n",
    "    \n",
    "    #close the file\n",
    "    file.close()\n",
    "    \n",
    "    \n",
    "chk1 = \"yes\"\n",
    "    \n",
    "while chk1 == \"yes\":\n",
    "    action = input(\"what action - view/add\")\n",
    "\n",
    "    if action == \"view\":\n",
    "        show_shop_list()\n",
    "    elif action == \"add\":\n",
    "        my_list = create_shoplist()\n",
    "        add_shopping_list(my_list)\n",
    "    \n",
    "    chk1 = input(\"continue yes/no: \")\n",
    "    if chk1 == \"no\":\n",
    "        break"
   ]
  },
  {
   "cell_type": "code",
   "execution_count": null,
   "metadata": {},
   "outputs": [],
   "source": [
    " "
   ]
  },
  {
   "cell_type": "code",
   "execution_count": null,
   "metadata": {},
   "outputs": [],
   "source": []
  }
 ],
 "metadata": {
  "kernelspec": {
   "display_name": "Python 3",
   "language": "python",
   "name": "python3"
  },
  "language_info": {
   "codemirror_mode": {
    "name": "ipython",
    "version": 3
   },
   "file_extension": ".py",
   "mimetype": "text/x-python",
   "name": "python",
   "nbconvert_exporter": "python",
   "pygments_lexer": "ipython3",
   "version": "3.7.6"
  }
 },
 "nbformat": 4,
 "nbformat_minor": 4
}
